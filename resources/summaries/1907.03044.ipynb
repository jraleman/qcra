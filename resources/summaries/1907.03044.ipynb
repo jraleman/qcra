{
 "cells": [
  {
   "cell_type": "markdown",
   "metadata": {},
   "source": [
    "# Credit Risk Analysis using Quantum Computers\n",
    "> From Paper: 1907.03044"
   ]
  },
  {
   "cell_type": "markdown",
   "metadata": {
    "vscode": {
     "languageId": "plaintext"
    }
   },
   "source": [
    "## **Summary**\n",
    "\n",
    "- The paper presents a quantum algorithm more efficient that Monte Carlo simulator to estimate the credit risk, which is an improvement on what classical computers can do. \n",
    "- The economic capital requirement is important because it's a risk metric that summarizes the amount of capital required to remain solvent at a given confidence level (have enough money to pay all their debts).\n",
    "- This problem was implemented with a realistic loss distribution and analyzed scaling to a realistic problem size.\n",
    "- Provides an estimate of the total number of:\n",
    "    - Required qubits\n",
    "    - Expected circuit depth\n",
    "    - Expected runtime (under reasonable assumptions on future faultolerant quantum hardware)"
   ]
  },
  {
   "cell_type": "markdown",
   "metadata": {},
   "source": [
    "## **1. Introduction**\n",
    "\n",
    "- Economic capital is the amount of risk capital, which a firm requites to cover the risks that is running, or as a on going concern, such as a credit risk (CR), which is the monetary loss resulting from the other party failing to meet the financial obligation agreed upon. [1]\n",
    "- Risk metrics, like Value at Risk (VaR) and the Economic Capital Reruirement (ECR) are often calculated for different scenarios. For this reason, the Monte Carlo (MC) simulation is the method of choice for this task.\n",
    "- However, evaluating CR with MC is a rare-event simulation problem, which requires many samples, thereby making MC computationally intensive.\n",
    "- Importance sampling reduces the com- putational cost by lowering the constants but does not change the asymptotic rate of convergence (quantities that represent how quickly the sequence approaches its limit) [2].\n",
    "- It has been shown how the Quantum Amplitude Estimation (QAE) algorithm can be used to analyze financial risk measures [3] or to price financial derivatives [4] with a quadratic speedup."
   ]
  },
  {
   "cell_type": "markdown",
   "metadata": {},
   "source": [
    "## **2. Credit Risk Analysis**\n",
    "\n",
    "TODO:\n",
    "- Formally define the economic capital requirement as well as the two different uncertainty models considered.\n",
    "- ECR summarizes in a single figure the amount of capital (or own funds) required to remain solvent at a given confidence level (usually linked to the risk appetite or target solvency rating) and a time horizon (usually one year).\n",
    "- It is a complementary metric to the regulatory capital requirements that refers to the amount of own funds required following regulatory criteria and rules [16].\n",
    "- In this paper, we consider only the ECR related to default risk, which is the loss that occurs when an obligor does not fulfill the repayment of a loan.\n",
    "- The main components of an ECR model for a portfolio of assets are the singleasset default probabilities, the loss given default, and the correlation among the single-asset default events.\n",
    "- In the following, we first introduce a general form of the credit risk analysis problem considered in this manuscript and then define concrete models in detail.\n",
    "- For a portfolio of $K$ assets the multivariate random variable $(L_1, ..., L_K) ∈ R_K ≥ 0 $ denotes each possible loss associated to each asset. "
   ]
  },
  {
   "cell_type": "markdown",
   "metadata": {},
   "source": [
    "## **3. Quantum Algorithm**\n",
    "\n",
    "TODO:\n",
    "- Build on previous work [3] and discuss how to implement the quantum algorithms on a gate based quantum computer."
   ]
  },
  {
   "cell_type": "markdown",
   "metadata": {},
   "source": [
    "## **4. Results**\n",
    "\n",
    "TODO:\n",
    "- Show simulation results for small instances of the considered models"
   ]
  },
  {
   "cell_type": "markdown",
   "metadata": {},
   "source": [
    "## **5. Scaling to Real World Problem**\n",
    "\n",
    "TODO:\n",
    "- Analyzes the scaling of the algorithm for problems of realistic size as well as the resulting quantum advantage."
   ]
  },
  {
   "cell_type": "markdown",
   "metadata": {},
   "source": [
    "## **6. Conclusion**\n",
    "\n",
    "..."
   ]
  },
  {
   "cell_type": "markdown",
   "metadata": {},
   "source": [
    "## Resources\n",
    "\n",
    "- [1] https://www.investopedia.com/terms/e/economic-capital.asp#:~:text=Economic%20capital%20is%20the%20amount,known%20as%20a%20capital%20requirement).\n",
    "- [2] https://en.wikipedia.org/wiki/Rate_of_convergence\n",
    "- [3] Stefan Woerner and Daniel J. Egger, “Quantum risk analysis,” npj Quantum Information 5, 15 (2019).\n",
    "- [4] Nikitas Stamatopoulos, Daniel J. Egger, Yue Sun, Christa Zoufal, Raban Iten, Ning Shen, and Stefan Woerner, “Option Pricing using Quantum Computers,”\n",
    "arXiv:1905.02666 ."
   ]
  }
 ],
 "metadata": {
  "interpreter": {
   "hash": "b0fa6594d8f4cbf19f97940f81e996739fb7646882a419484c72d19e05852a7e"
  },
  "kernelspec": {
   "display_name": "Python 3.9.5 64-bit",
   "language": "python",
   "name": "python3"
  },
  "language_info": {
   "name": "python",
   "version": "3.9.5"
  },
  "orig_nbformat": 4
 },
 "nbformat": 4,
 "nbformat_minor": 2
}
