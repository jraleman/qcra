{
 "cells": [
  {
   "cell_type": "markdown",
   "metadata": {},
   "source": [
    "# Quantum Credit Risk Analysis\n",
    "\n",
    "*Authors: Arjun Puppala, Jose Ramon Aleman, Marti Ciurana*\n",
    "\n",
    "*Tutor: Giulio Gasbarri*"
   ]
  },
  {
   "cell_type": "markdown",
   "metadata": {},
   "source": [
    "## **Abstract**\n",
    "\n",
    "*We introduce and describe an iterative algorithm of the Quantum Amplitude Estimation (QAE), known as the Iterative QAE (IQAE). This is used for estimating credit risk that outperforms Monte Carlo (MC) simulations on traditional computers. We calculate the Economic Capital (EC) required, which is the difference between the Value at Risk (VaR) and the predicted Loss Distribution Value (LDV). The calculation of the EC required is of interest, because it quantifies the amount of capital required to be solvent at a certain level of confidence, making it an important risk statistic. We implement this problem for a realistic LDV and analyze its scaling to a realistic problem size. We present estimates of the overall number of necessary qubits, the expected circuit depth, and how this translates into an expected runtime on future fault-tolerant quantum hardware under acceptable assumptions.*"
   ]
  },
  {
   "cell_type": "markdown",
   "metadata": {},
   "source": [
    "\n",
    "## 1. Introduction\n",
    "\n",
    "The credit risk analysis is a form of analysis performed (normally by a credit analyst) to determine a borrower’s ability to meet their debt obligations. The purpose of credit risk analysis is to determine the creditworthiness of borrowers by quantifying the risk of loss that the lender is exposed to. The three factors that lenders use to quantify credit risk include: the probability of default, the loss given of default, and exposure of default. [[1]](https://corporatefinanceinstitute.com/resources/knowledge/credit/purpose-of-credit-risk-analysis/)\n",
    "\n",
    "The usage of quantum computers could allow faster and more accurate solutions, for example, to determinate the credit risk profile of a client. It is said that financial institutions that can make the most of quantum computing are likely to see significant benefits. Banks and asset managers optimize portfolios based on computationally intense models that process large sets of variables, and for this reason, they will be able to more effectively analyze large or unstructured data sets.\n",
    "\n",
    "In valuation, for example, the ability to speedily identify an optimal risk-adjusted portfolio is likely to create significant competitive advantage. For loan and bond portfolios, more precise estimates of credit exposures should lead to better optimization decisions.\n",
    "\n",
    "American and European banks are also exploring quantum computing opportunities. [[2]](https://www.mckinsey.com/industries/financial-services/our-insights/how-quantum-computing-could-change-financial-services)\n",
    "\n",
    "- Bank of America strategist said quantum computing would be: \"as revolutionary in the 2020s as smartphones were in the 2010s\".\n",
    "- BBVA has formed a partnership to explore portfolio optimization and more efficient Monte Carlo modelling.\n",
    "- Caixa Bank is running a trial hybrid framework of quantum and conventional computing with the aim of better classifying credit risk profiles."
   ]
  },
  {
   "cell_type": "markdown",
   "metadata": {},
   "source": [
    "## 2. Problem Description\n",
    "\n",
    "We can describe the problem as the simple default risk, that a lender takes on in the chance that a borrower will be unable to make the required payments on their debt obligation. Whenever a lender extends credit to a borrower, there is a chance that the loan amount will not be paid back. The measurement that looks at this probability is the default risk. \n",
    "\n",
    "The default risk applies to both individuals who borrow money, and companies that issue bonds and due to financial constraints, are not able to make interest payments on those bonds. Whenever a lender extends credit, calculating the default risk of a borrower is crucial as part of its risk management strategy. Whenever an investor is evaluating an investment, determining the financial health of a company or private person is crucial in gauging investment risk.\n",
    "\n",
    "Lenders generally examine a company's financial statements and employ several financial ratios to determine the likelihood of debt repayment. Free cash flow is the cash that is generated after the company reinvests in itself and is calculated by subtracting capital expenditures from operating cash flow. Free cash flow is used for things such as debt and dividend payments. A free cash flow figure that is near zero or negative indicates that the company may be having trouble generating the cash necessary to deliver on promised payments. This could indicate a higher default risk. The default risk on a debt arises from a borrower failing to make the required payments, for example:\n",
    "\n",
    "- A consumer may fail to make a payment due on a mortgage loan, credit card, line of credit, or other loan.\n",
    "- A company is unable to repay asset-secured fixed or floating charge debt.\n",
    "- A business or consumer does not pay a trade invoice when due."
   ]
  },
  {
   "cell_type": "markdown",
   "metadata": {},
   "source": [
    "### 2.1. Problem Definition\n",
    "\n",
    "We analyze the credit risk of a portfolio of $k$ assets. The default probability of every asset $k$ follows a Gaussian Conditional Independence model, i.e., given a value $z$ sampled from a latent random variable $Z$ following a standard normal distribution, the default probability of asset $k$ is given by:\n",
    "\n",
    "$$ p_k(z) = F\\left( \\frac{F^{-1}(p_k^0) - \\sqrt{\\rho_k}z}{\\sqrt{1 - \\rho_k}} \\right) $$\n",
    " \n",
    "where $F$ denotes the cumulative distribution function of $Z$, $p_k^0$ is the default probability of asset $k$ for $z=0$ and $\\rho_k$ is the sensitivity of the default probability of asset $k$ with respect to $Z$. Thus, given a concrete realization of $Z$ the individual default events are assumed to be independent from each other.\n",
    "\n",
    "We are interested in analyzing risk measures of the total loss\n",
    "\n",
    "$$ L = \\sum_{k=1}^K \\lambda_k X_k(Z) $$\n",
    "\n",
    "where $\\lambda_k$ denotes the loss given default of asset $k$, and given $Z$, $X_k(Z)$ denotes a Bernoulli variable representing the default event of asset $k$. More precisely, we are interested in the expected value $\\mathbb{E}[L]$, the Value at Risk (VaR) of $L$ and the Conditional Value at Risk (CVaR) of $L$ (also called Expected Shortfall).\n",
    "\n",
    "Where VaR is defined as:\n",
    "\n",
    "$$ \\text{VaR}_{\\alpha}(L) = \\inf \\{ x \\mid \\mathbb{P}[L <= x] \\geq 1 - \\alpha \\} $$\n",
    "\n",
    "and CVaR with confidence level $\\alpha \\in [0, 1]$, is defined:\n",
    "\n",
    "$$ \\text{CVaR}_{\\alpha}(L) = \\mathbb{E}[ L \\mid L \\geq \\text{VaR}_{\\alpha}(L)] $$\n"
   ]
  },
  {
   "cell_type": "markdown",
   "metadata": {},
   "source": [
    "### 2.2. Problem Parameters\n",
    "\n",
    "The introduced quantum algorithm for estimating the credit at risk, Iterative Quantum Amplitude Estimation (IQAE), does not rely on Quantum Phase Estimation (QPE), and is based on Grover’s Algorithm, reducing the required number of qubits and gates needed. We provide a rigorous analysis of IQAE and prove that it achieves a quadratic speedup up to a double-logarithmic factor compared to classical Monte Carlo simulation. We test the algorithm in a two (2) assets portfolio."
   ]
  },
  {
   "cell_type": "code",
   "execution_count": 1,
   "metadata": {
    "tags": [
     "hide-input"
    ]
   },
   "outputs": [],
   "source": [
    "### Python Dependencies (used for simulations and graphs)\n",
    "import numpy as np\n",
    "import matplotlib.pyplot as plt\n",
    "from qiskit import QuantumRegister, QuantumCircuit, Aer, execute\n",
    "from qiskit.circuit.library import IntegerComparator, WeightedAdder, LinearAmplitudeFunction\n",
    "from qiskit.utils import QuantumInstance\n",
    "from qiskit.algorithms import IterativeAmplitudeEstimation, EstimationProblem\n",
    "from qiskit_finance.circuit.library import GaussianConditionalIndependenceModel as GCI"
   ]
  },
  {
   "cell_type": "markdown",
   "metadata": {},
   "source": [
    "\n",
    "The problem parameters are defined by the following:\n",
    "\n",
    "1. Number of qubits used to represent $Z$, denoted by $n_z$\n",
    "2. Truncation value for $Z$, denoted by $z_\\text{max}$, i.e., $Z$ is assumed to take $2^{n_z}$ equidistant values in $\\{-z_\\text{max},...,+z_\\text{max}\\}$\n",
    "3. Base default probabilities for each asset $p_0^k \\in (0,1)$, $k=1, ..., K$  \n",
    "4. Sensitivities of the default probabilities with respect to $Z$, denoted by $\\rho_k \\in [0,1)$ \n",
    "5. Loss given default for asset $k$, denoted by $\\lambda_k$\n",
    "6. Confidence level for VaR / CVaR $\\alpha \\in [0,1]$."
   ]
  },
  {
   "cell_type": "code",
   "execution_count": 2,
   "metadata": {
    "tags": [
     "hide-input"
    ]
   },
   "outputs": [],
   "source": [
    "# Number of qubits used to represent $Z$, denoted by $n_z$\n",
    "n_z = 2\n",
    "z_max = 2\n",
    "# Truncation value for $Z$, denoted by $z_\\text{max}$, i.e., $Z$ is assumed to take $2^{n_z}$ equidistant values in $\\{-z_\\text{max},...,+z_\\text{max}\\}$\n",
    "z_values = np.linspace(-z_max, z_max, 2 ** n_z)\n",
    "# Base default probabilities for each asset\n",
    "p_zeros = [0.15, 0.25]\n",
    "# Sensitivities of the default probabilities with respect to $Z$\n",
    "rhos = [0.1, 0.05]\n",
    "# Loss given default for asset\n",
    "lgd = [1, 2]\n",
    "# Confidence level for VaR / CVaR \n",
    "K = len(p_zeros)\n",
    "alpha = 0.05\n",
    "\n",
    "# Grover Algorithm Data\n",
    "grover = int(12)\n",
    "data = range(grover)\n",
    "prob = np.ones(grover)\n",
    "winner = ['','','','','','','|w⟩','','','','','']\n",
    "avg_amplitude = ['', '1/√N', '']\n",
    "\n",
    "# Graph styles\n",
    "label_size = 12\n",
    "title_size = 16\n",
    "c_off = 'lightgray'\n",
    "c_on = 'black'\n",
    "c = [c_off, c_off, c_off, c_off, c_off, c_off, c_on, c_off, c_off, c_off, c_off]\n"
   ]
  },
  {
   "cell_type": "markdown",
   "metadata": {},
   "source": [
    "## 3. Methods\n",
    "\n",
    "In order to further demonstrate the capabilities of IQAE, we used classical simulations of quantum hardware to show that it can also be applied to speed up the computation of risk measures of a simple two-asset (2) portfolio. Nevertheless, we notice that to achieve quantum advantage in a real-world scenario, the quality of current quantum hardware needs to be improved. Errors arising from the limited coherence time and cross-talk when measuring the states of qubits need to be substantially suppressed. Furthermore, because of this reason, the number of qubits must be increased.\n",
    "\n",
    "We went on to show how IQAE can be applied to the task of pricing an asset using real quantum hardware. However, the current pace of advances in research directed at improving both quantum hardware and quantum algorithms makes us optimistic that real quantum advantage in risk analysis can be achieved in the future.\n",
    "\n",
    "### 3.1. Estimate the Risk\n",
    "\n",
    "Value at risk (VaR) is a statistic that quantifies the extent of possible financial losses within a firm, portfolio, or position over a specific time frame. The CVar quantifies the average expected loss. A financial firm, for example, may determine an asset has a 3% one-month VaR of 2%, representing a 3% chance of the asset declining in value by 2% during the one-month time frame. The conversion of the 3% chance of occurrence to a daily ratio places the odds of a 2% loss at one day per month."
   ]
  },
  {
   "cell_type": "markdown",
   "metadata": {},
   "source": [
    "### 3.2. Classical Method: Monte Carlo (MC)\n",
    "\n",
    "The Monte Carlo (MC) method is a broad class of computational algorithms that rely on repeated random sampling to obtain numerical results. The underlying concept is to use randomness to solve problems that might be deterministic in principle. MC predicts a set of outcomes based on an estimated range of values versus a set of fixed input values. \n",
    "\n",
    "In other words, a MC simulation builds a model of possible results by leveraging a probability distribution, such as a uniform or normal distribution, for any variable that has inherent uncertainty. It recalculates the results over and over, each time using a different set of random numbers between the minimum and maximum values. In a typical MC experiment, this exercise can be repeated thousands of times to produce a large number of likely outcomes.\n",
    "\n",
    "The idea behind MC integration is to estimate the area under a (high dimensional) surface by taking random points and counting how many fall. The error goes down like the reciprocal of the square root of the number of points. The error estimate has nothing to do with the dimension, in that sense, MC integration is indeed independent of dimension, and for that reason is often used for numerical integration in dimensions too high to use product methods.\n",
    "\n",
    "When this is translated into software, those n dimensions are the equivalent of a software with n features. If there are no points in the region of interest, we would estimate the volume of the region of interest to be zero. The volume is very small, and the absolute error in estimating a small number to be zero is small, but the relative is 100%. Several combinations of different scenarios are tested and the result of each scenario is analyzed, and for this reason, it’s slow and expensive."
   ]
  },
  {
   "cell_type": "markdown",
   "metadata": {},
   "source": [
    "### 3.3. Quantum Amplitude Estimation (QAE)\n",
    "\n",
    "QAE is one of the algorithms at the basis of the quantum revolution, it can be understood as a combination of Quantum Phase Estimation (QPE) and Grover Algorithm. It is useful to estimate the VaR, and has the potential to achieve a quadratic speed up for most of the application that are nowadays solved through Monte Carlo (MC) simulations, while these simulations scale with $𝒪(1/\\sqrt{M})$ with $M$ the number of samples, QAE achieve a scaling of $𝒪(1/M)$, where $M$ are the quantum samples. It has been shown that we can leverage QAE in the financial service sector, e.g., for risk analysis, option pricing, and also for generic tasks such as numerical integration. However, we do not provide rigorous proofs of the correctness of the proposed algorithms. It is not even clear how to control the accuracy of the algorithm other than possibly increasing the number of measurements of the evolving quantum circuits.\n",
    "\n",
    "In the following, we propose an alternative version of QAE, the Iterative QAE (IQAE). It achieves better results than previous tested algorithms. It requires iterative queries to the quantum computer to achieve the quadratic speedup and cannot be parallelized. Although parallelization is a nice feature, the potential speedup is limited. Assuming the length of the queries is doubled in each iteration, the speedup is at most a factor of two since the computationally most expensive query dominates all the others. Has the desired asymptotic behavior up to a multiplicative $\\log{(2/\\alpha \\log{2(\\pi/ 4 \\epsilon)})}$ factor, where $ϵ > 0$ denotes the target accuracy, and $1 − α$ the resulting confidence level. [[8]](https://www.nature.com/articles/s41534-021-00379-1)\n",
    "\n",
    "Before showing the results of applying the IQAE algorithm, we will discuss the mapping of the problem in the quantum operator $A$, discuss about the operator $Q$, how to map the uncertainty model in a quantum register, and how the problem of the expected loss is mapped in a quantum circuit. This improves the results without additional queries to the quantum computer and allows us to derive proper confidence intervals."
   ]
  },
  {
   "cell_type": "markdown",
   "metadata": {},
   "source": [
    "#### 3.3.1 Grover's Algorithm\n",
    "\n",
    "In this section, we introduce Grover's algorithm and how it can be used to solve unstructured search problems. This algorithm can speed up an unstructured search problem quadratically.\n",
    "\n",
    "Suppose you are given a large list of $N$ items. Among these items there is one item with a unique property that we wish to locate; we will call this one the winner $w$. To find the marked item using classical computation, one would have to check on average ${N\\over2}$ of these boxes, and in the worst case, all $N$ of them. On a quantum computer, however, we can find the marked item in roughly $√N$ steps with Grover's algorithm.\n",
    "\n",
    "Before looking at the list of items, we have no idea where the marked item is. Therefore, any guess of its location is as good as any other, which can be expressed in terms of a uniform superposition:\n",
    "\n",
    "$$|s \\rangle = \\frac{1}{\\sqrt{N}} \\sum_{x = 0}^{N -1} | x \\rangle.$$\n",
    "\n",
    "If at this point we were to measure in the standard basis $\\{|x⟩\\}$, this superposition would collapse, according to the fifth quantum law, to any one of the basis states with the same probability of ${1\\over{n}} = {1\\over{2^n}}$. Our chances of guessing the right value $w$ is therefore $1$ in $2^n$, as could be expected. Hence, on average we would need to try about ${N\\over{2}} = 2^{n-1}$ times to guess the correct item.\n",
    "\n",
    "This algorithm has a nice geometrical interpretation in terms of two reflections, which generate a rotation in a two-dimensional plane. The only two special states we need to consider are the winner $|w⟩$ and the uniform superposition $|s⟩$. These two vectors span a two-dimensional plane in the vector space $\\mathbb{C}^n$.\n",
    "\n",
    "They are not quite perpendicular because $|w⟩$ occurs in the superposition with amplitude $N^{-1/2}$ as well. We can, however, introduce an additional state $|s′⟩$ that is in the span of these two vectors, which is perpendicular to $|w⟩$ and is obtained from $|s⟩$ by removing $|w⟩$ and rescaling."
   ]
  },
  {
   "cell_type": "markdown",
   "metadata": {},
   "source": [
    "##### 3.3.1.1. Amplitude Amplification\n",
    "\n",
    "The amplitude amplification procedure [[6]](http://arxiv.org/abs/quant-ph/0005055) starts out in the uniform superposition $|s⟩$, which is easily constructed from:\n",
    "\n",
    "$$ |s\\rangle = H^{\\otimes n} | 0 \\rangle^n $$"
   ]
  },
  {
   "cell_type": "code",
   "execution_count": 3,
   "metadata": {
    "tags": [
     "hide-input"
    ]
   },
   "outputs": [
    {
     "data": {
      "image/png": "[encoded data removed]",
      "text/plain": [
       "<Figure size 432x288 with 1 Axes>"
      ]
     },
     "metadata": {
      "needs_background": "light"
     },
     "output_type": "display_data"
    }
   ],
   "source": [
    "# Vector origin location\n",
    "X = [0]\n",
    "Y = [0]\n",
    "\n",
    "# Directional vectors\n",
    "U = [2]\n",
    "V = [0.75]\n",
    "\n",
    "# Draw graph\n",
    "plt.title(\"Step 1 - Vector Space\", size=title_size)\n",
    "plt.ylabel(\"|w⟩\", size=label_size)\n",
    "plt.xlabel(\"|s`⟩\", size=label_size)\n",
    "plt.quiver(X, Y, U, V, color=c_on, units='xy', scale=prob)\n",
    "plt.quiver(X, Y, [2], [0], color=c_off, units='xy', scale=prob)\n",
    "plt.text(1, 0.15, 'θ')\n",
    "plt.text(2, 0.75, '|s⟩ = |Ψ₀⟩')\n",
    "plt.xlim(-2, 4)\n",
    "plt.ylim(-2, 2)\n",
    "plt.show()"
   ]
  },
  {
   "cell_type": "markdown",
   "metadata": {},
   "source": [
    "Corresponds to the two-dimensional plane spanned by perpendicular vectors $|w⟩$ and $|s′⟩$ which allows to express the initial state as: \n",
    "\n",
    "$$ |s\\rangle = \\sin \\theta | w \\rangle + \\cos \\theta | s' \\rangle $$\n",
    "\n",
    "Where\n",
    "\n",
    "$$ \\theta = \\arcsin \\langle s | w \\rangle = \\arcsin \\frac{1}{\\sqrt{N}} $$"
   ]
  },
  {
   "cell_type": "code",
   "execution_count": 4,
   "metadata": {
    "tags": [
     "hide-input"
    ]
   },
   "outputs": [
    {
     "data": {
      "image/png": "[encoded data removed]",
      "text/plain": [
       "<Figure size 432x288 with 1 Axes>"
      ]
     },
     "metadata": {
      "needs_background": "light"
     },
     "output_type": "display_data"
    }
   ],
   "source": [
    "# Draw graph\n",
    "plt.title(\"Step 1 - Probabilities\", size=title_size)\n",
    "plt.ylabel(\"Amplitude\", size=label_size)\n",
    "plt.bar(data, prob, color=c)\n",
    "plt.xticks(data, winner, size=label_size)\n",
    "plt.yticks(range(3), avg_amplitude, size=label_size)\n",
    "plt.show()"
   ]
  },
  {
   "cell_type": "markdown",
   "metadata": {},
   "source": [
    "Graph of the amplitudes of the state $|s⟩$."
   ]
  },
  {
   "cell_type": "markdown",
   "metadata": {},
   "source": [
    "##### 3.3.1.2. Oracle and Phase Inversion\n",
    "\n",
    "We apply the oracle reflection $U_f$ to the state $|s⟩$:"
   ]
  },
  {
   "cell_type": "code",
   "execution_count": 5,
   "metadata": {
    "tags": [
     "hide-input"
    ]
   },
   "outputs": [
    {
     "data": {
      "image/png": "[encoded data removed]",
      "text/plain": [
       "<Figure size 432x288 with 1 Axes>"
      ]
     },
     "metadata": {
      "needs_background": "light"
     },
     "output_type": "display_data"
    }
   ],
   "source": [
    "# Vector origin location\n",
    "X = [0]\n",
    "Y = [0]\n",
    "\n",
    "# Directional vectors\n",
    "U = [2]\n",
    "V = [-0.75]\n",
    "\n",
    "# Draw graph\n",
    "plt.title(\"Step 2 - Oracle Reflection\", size=title_size)\n",
    "plt.ylabel(\"|w⟩\", size=label_size)\n",
    "plt.quiver(X, Y, U, V, color=c_on, units='xy', scale=prob)\n",
    "plt.quiver(X, Y, [2], [0], color=c_off, units='xy', scale=prob)\n",
    "plt.quiver(X, Y, [2], [V[0] * -1], color=c_off, units='xy', scale=prob)\n",
    "plt.text(1, -0.25, 'θ')\n",
    "plt.text(2, 0, '|s`⟩')\n",
    "plt.text(2, V[0] * -1, '|s⟩')\n",
    "plt.text(2, V[0], '|Ψ_t⟩ ≥ U_ω|Ψ_t⟩')\n",
    "plt.xlim(-2, 4)\n",
    "plt.ylim(-2, 2)\n",
    "plt.show()"
   ]
  },
  {
   "cell_type": "markdown",
   "metadata": {},
   "source": [
    "Geometrically this corresponds to a reflection of the state $|s⟩$ about $|s′⟩$."
   ]
  },
  {
   "cell_type": "code",
   "execution_count": 6,
   "metadata": {
    "tags": [
     "hide-input"
    ]
   },
   "outputs": [
    {
     "data": {
      "image/png": "[encoded data removed]",
      "text/plain": [
       "<Figure size 432x288 with 1 Axes>"
      ]
     },
     "metadata": {
      "needs_background": "light"
     },
     "output_type": "display_data"
    }
   ],
   "source": [
    "# Function to flag set by inverting its value\n",
    "def invert_phase(l1, p):\n",
    "    inverted = []\n",
    "    for i in range(len(l1)):\n",
    "        val = p if l1[i] == '' else -1 * p\n",
    "        inverted.insert(i, val)\n",
    "    return inverted\n",
    "\n",
    "# Draw graph\n",
    "new_amplitude = ['N', '≤ {}'.format(avg_amplitude[1]), '']\n",
    "plt.title(\"Step 2 - Inverted Phase\", size=title_size)\n",
    "plt.ylabel(\"Amplitude\", size=label_size)\n",
    "plt.bar(data, invert_phase(winner, 1), color=c)\n",
    "plt.xticks(invert_phase(winner, 1), winner, size=label_size)\n",
    "plt.yticks(range(3), new_amplitude, size=label_size)\n",
    "plt.show()"
   ]
  },
  {
   "cell_type": "markdown",
   "metadata": {},
   "source": [
    "This transformation means that the amplitude in front of the $|w⟩$ state becomes negative, which in turn means that the average amplitude (indicated by a dashed line) has been lowered."
   ]
  },
  {
   "cell_type": "markdown",
   "metadata": {},
   "source": [
    "##### 3.3.1.3. Reflection and Rotation\n",
    "\n",
    "We now apply an additional reflection $(U_s)$  about the state\n",
    "\n",
    "$$ |s\\rangle:U_s = 2|s\\rangle\\langle s| - \\mathbb{1} $$\n",
    "\n",
    "This transformation maps the state to $ U_s U_f| s \\rangle $ and completes the transformation."
   ]
  },
  {
   "cell_type": "code",
   "execution_count": 7,
   "metadata": {
    "tags": [
     "hide-input"
    ]
   },
   "outputs": [
    {
     "data": {
      "image/png": "[encoded data removed]",
      "text/plain": [
       "<Figure size 432x288 with 1 Axes>"
      ]
     },
     "metadata": {
      "needs_background": "light"
     },
     "output_type": "display_data"
    }
   ],
   "source": [
    "# Vector origin location\n",
    "X = [0]\n",
    "Y = [0]\n",
    "\n",
    "# Directional vectors\n",
    "U = [2]  \n",
    "V = [1.5]\n",
    "\n",
    "# Draw graph\n",
    "plt.title(\"Step 3 - Additional Reflection\", size=title_size)\n",
    "plt.ylabel(\"|w⟩\", size=label_size)\n",
    "plt.quiver(X, Y, U, V, color=c_on, units='xy', scale=prob)\n",
    "plt.quiver(X, Y, U, [0], color=c_off, units='xy', scale=prob)\n",
    "plt.quiver(X, Y, U, [0.75], color=c_off, units='xy', scale=prob)\n",
    "plt.text(1.1, 0.6, '2θ')\n",
    "plt.text(2, 0, '|s`⟩')\n",
    "plt.text(2, 0.75, '|s⟩')\n",
    "plt.text(1.5, 1.75, 'U_s|Ψ_t⟩⟩ ≥ U_s U_ω|Ψ_t⟩')\n",
    "plt.xlim(-2, 4)\n",
    "plt.ylim(-2, 2)\n",
    "plt.show()"
   ]
  },
  {
   "cell_type": "markdown",
   "metadata": {},
   "source": [
    "Two reflections always correspond to a rotation. "
   ]
  },
  {
   "cell_type": "code",
   "execution_count": 8,
   "metadata": {
    "tags": [
     "hide-input"
    ]
   },
   "outputs": [
    {
     "data": {
      "image/png": "[encoded data removed]",
      "text/plain": [
       "<Figure size 432x288 with 1 Axes>"
      ]
     },
     "metadata": {
      "needs_background": "light"
     },
     "output_type": "display_data"
    }
   ],
   "source": [
    "# Function to amplify winner item\n",
    "def amplify_winner(l1):\n",
    "    amplified = []\n",
    "    for i in range(len(l1)):\n",
    "        val = 0.5 if l1[i] == '' else 1\n",
    "        amplified.insert(i, val)\n",
    "    return amplified\n",
    "\n",
    "# Draw graph\n",
    "new_amplitude = ['N', '', '']\n",
    "plt.title(\"Step 3 - Rotate Phase\", size=title_size)\n",
    "plt.ylabel(\"Amplitude\", size=label_size)\n",
    "plt.bar(data, amplify_winner(winner), color=c)\n",
    "plt.xticks(amplify_winner(winner), [\"\" for x in range(grover)])\n",
    "plt.yticks(range(3), new_amplitude, size=label_size)\n",
    "plt.text(5.75, 1.1, '|w⟩')\n",
    "plt.show()"
   ]
  },
  {
   "cell_type": "markdown",
   "metadata": {},
   "source": [
    "The transformation $U_sU_f$ rotates the initial state $|s⟩$ closer towards the winner $|w⟩$."
   ]
  },
  {
   "cell_type": "markdown",
   "metadata": {},
   "source": [
    "The action of the reflection $U_s$ in the amplitude bar diagram can be understood as a reflection about the average amplitude. Since the average amplitude has been lowered by the first reflection, this transformation boosts the negative amplitude of $|w⟩$ to roughly three (3) times its original value, while it decreases the other amplitudes. We then go to step 2 (oracle and phase inversion) to repeat the application. This procedure will be repeated several times to zero in on the winner.\n",
    "\n",
    "After $t$ steps we will be in the state $|ψ_t⟩$ where:\n",
    "\n",
    "$$ | \\psi_t \\rangle = (U_s U_f)^t  | s \\rangle $$\n",
    "\n",
    "![grover-hl](assets/diagrams/grover-circuit-high-level.png)"
   ]
  },
  {
   "cell_type": "markdown",
   "metadata": {},
   "source": [
    "\n",
    "#### 3.3.1.4. Grover's Algorithm Search Implementation\n",
    "\n",
    "The three stages of the 3-qubit Grover search algorithm: initialization, oracle, and amplification. [[7]](https://scx2.b-cdn.net/gfx/news/2018/groversearch.jpg)\n",
    "\n",
    "![grover-search](assets/diagrams/grover-search.jpeg)"
   ]
  },
  {
   "cell_type": "markdown",
   "metadata": {},
   "source": [
    "#### 3.3.2. Quantum Fourier Transform\n",
    "\n",
    "The Fourier Transform occurs in many different versions throughout classical computing, in areas ranging from signal processing to data compression to complexity theory. The Quantum Fourier Transform (QFT) is the quantum equivalent implementation of the discrete Fourier Transform over the amplitudes of a wavefunction.\n",
    "\n",
    "The discrete Fourier transform acts on a vector $(x0,...,x_{N−1})$ and maps it to the vector $(y0,...,y_{N−1})$ according to the formula:\n",
    "\n",
    "$$ y_k = \\frac{1}{\\sqrt{N}}\\sum_{j=0}^{N-1}x_j\\omega_N^{jk} $$\n",
    "\n",
    "where: $ \\omega_N^{jk} = e^{2\\pi i \\frac{jk}{N}} $\n",
    "\n",
    "Similarly, QFT acts on a quantum state $ \\vert X\\rangle = \\sum_{j=0}^{N-1} x_j \\vert j \\rangle $ and maps it to the quantum state $ \\vert Y\\rangle = \\sum_{k=0}^{N-1} y_k \\vert k \\rangle $ according to the formula:\n",
    "\n",
    "$$ y_k = \\frac{1}{\\sqrt{N}}\\sum_{j=0}^{N-1}x_j\\omega_N^{jk} $$\n",
    "\n",
    "We see that only the amplitudes of the state were affected by this transformation. This can also be expressed as the unitary matrix:\n",
    "\n",
    "$$ U_{QFT} = \\frac{1}{\\sqrt{N}} \\sum_{j=0}^{N-1} \\sum_{k=0}^{N-1} \\omega_N^{jk} \\vert k \\rangle \\langle j \\vert $$\n",
    "\n",
    "The QFT transforms between two bases, the computational (Z) basis, and the Fourier basis. The H-gate is the single-qubit QFT, and it transforms between the Z-basis states $|0⟩$ and $|1⟩$ to the X-basis states $|+⟩$ and $|−⟩$. In the same way, all multi-qubit states in the computational basis have corresponding states in the Fourier basis. The QFT is simply the function that transforms between these bases.\n",
    "\n",
    "$$ |\\text{State in Computational Basis}\\rangle \\quad \\xrightarrow[]{\\text{QFT}} \\quad |\\text{State in Fourier Basis}\\rangle $$\n",
    "\n",
    "(We differentiate states in the Fourier basis using tilde (~)).\n",
    "\n",
    "##### 3.3.2.1. Counting in the Fourier basis:\n",
    "\n",
    "In the computational basis, we store numbers in binary using the states $|0⟩$ and $|1⟩$:\n",
    "\n",
    "![z-basis](assets/plot/zbasis-counting.gif)\n",
    "\n",
    "The frequency with which the different qubits change; the leftmost qubit flips with every increment in the number, the next with every 2 increments, the third with every 4 increments, and so on. In the Fourier basis, we store numbers using different rotations around the Z-axis:\n",
    "\n",
    "![fourier-basis](assets/plot/fourierbasis-counting.gif)\n",
    "\n",
    "The number we want to store dictates the angle at which each qubit is rotated around the Z-axis. In the state $|\\widetilde{0}\\rangle$, all qubits are in the state $|\\widetilde{+}\\rangle$. As seen in the example above, to encode the state $|\\widetilde{5}\\rangle$ on 4 qubits, we rotated the leftmost qubit by $\\tfrac{5}{2^n} = \\tfrac{5}{16}$ full turns ($\\tfrac{5}{16}\\times 2\\pi$ radians). The next qubit is turned double this radians, $\\tfrac{10}{16}\\times 2\\pi$, this angle is then doubled for the qubit after, and so on. Note the frequency of each changing qubit, the leftmost qubit (qubit 0) in this case has the lowest frequency, and the rightmost the highest."
   ]
  },
  {
   "cell_type": "markdown",
   "metadata": {},
   "source": [
    "## 4. Results\n",
    "\n",
    "In this section, we show our results, including the value at risk obtained and corresponding probability, conditional value at risk, expected loss, the plot of probability distribution of the two assets, the results of the simulation with noise, the difference between the simulation with and without noise and comparing it with the MC simulation."
   ]
  },
  {
   "cell_type": "markdown",
   "metadata": {},
   "source": [
    "### 4.1. Uncertainty Model\n",
    "\n",
    "We now construct a circuit that loads the uncertainty model. This can be achieved by creating a quantum state in a register of $n_z$ qubits that represents $Z$ following a standard normal distribution. This state is then used to control single qubit Y-rotations on a second qubit register of $K$ qubits, where a $|1\\rangle$ state of qubit $k$ represents the default event of asset $k$. [[3]](https://qiskit.org/documentation/finance/tutorials/09_credit_risk_analysis.html)\n",
    "\n",
    "The resulting quantum state can be written as:\n",
    "\n",
    "$ |\\Psi\\rangle = \\sum_{i=0}^{2^{n_z}-1} \\sqrt{p_z^i} |z_i \\rangle \\bigotimes_{k=1}^K\n",
    "\\left( \\sqrt{1 - p_k(z_i)}|0\\rangle + \\sqrt{p_k(z_i)}|1\\rangle\\right) $\n",
    "\n",
    "Where we denote by $z_i$ the $i$-th value of the discretized and truncated $Z$. [[5]](https://arxiv.org/abs/1907.03044)"
   ]
  },
  {
   "cell_type": "code",
   "execution_count": 9,
   "metadata": {
    "tags": [
     "hide-input"
    ]
   },
   "outputs": [
    {
     "data": {
      "text/html": [
       "<pre style=\"word-wrap: normal;white-space: pre;background: #fff0;line-height: 1.1;font-family: &quot;Courier New&quot;,Courier,monospace\">     ┌───────┐\n",
       "q_0: ┤0      ├\n",
       "     │       │\n",
       "q_1: ┤1      ├\n",
       "     │  P(X) │\n",
       "q_2: ┤2      ├\n",
       "     │       │\n",
       "q_3: ┤3      ├\n",
       "     └───────┘</pre>"
      ],
      "text/plain": [
       "     ┌───────┐\n",
       "q_0: ┤0      ├\n",
       "     │       │\n",
       "q_1: ┤1      ├\n",
       "     │  P(X) │\n",
       "q_2: ┤2      ├\n",
       "     │       │\n",
       "q_3: ┤3      ├\n",
       "     └───────┘"
      ]
     },
     "execution_count": 9,
     "metadata": {},
     "output_type": "execute_result"
    }
   ],
   "source": [
    "u = GCI(n_z, z_max, p_zeros, rhos)\n",
    "u.draw()"
   ]
  },
  {
   "cell_type": "markdown",
   "metadata": {},
   "source": [
    "We now use the simulator to validate the circuit that constructs $|\\Psi\\rangle$ and compute the corresponding exact values for: \n",
    "\n",
    "- Expected loss $\\mathbb{E}(L)$ \n",
    "- Value at Risk $VaR(L)$ and corresponding probability\n",
    "- Conditional Value at Risk $CVaR(L)$ "
   ]
  },
  {
   "cell_type": "code",
   "execution_count": 10,
   "metadata": {
    "tags": [
     "hide-input"
    ]
   },
   "outputs": [
    {
     "name": "stdout",
     "output_type": "stream",
     "text": [
      "P[L] <= VaR[L]]:                   0.9591\n",
      "Expected Loss E[L]:                0.6409\n",
      "Value at Risk VaR[L]:              2.0000\n",
      "Conditional Value at Risk CVaR[L]: 3.0000\n"
     ]
    }
   ],
   "source": [
    "# Execute circuit and analyze results\n",
    "exe = execute(u, backend=Aer.get_backend(\"statevector_simulator\"))\n",
    "\n",
    "# Initialize variables\n",
    "p_z = np.zeros(2 ** n_z)\n",
    "p_default = np.zeros(K)\n",
    "values = []\n",
    "probabilities = []\n",
    "num_qubits = u.num_qubits\n",
    "\n",
    "# Analyze uncertainty circuit and determine exact solutions\n",
    "state = exe.result().get_statevector()\n",
    "if not isinstance(state, np.ndarray):\n",
    "    state = state.data\n",
    "\n",
    "for i, a in enumerate(state):\n",
    "    # Get binary representation\n",
    "    b = (\"{0:0%sb}\" % num_qubits).format(i)\n",
    "    prob = np.abs(a) ** 2\n",
    "    # Extract value of Z and corresponding probability\n",
    "    i_normal = int(b[-n_z:], 2)\n",
    "    p_z[i_normal] += prob\n",
    "    # Determine overall default probability for k\n",
    "    loss = 0\n",
    "    for k in range(K):\n",
    "        if b[K - k - 1] == \"1\":\n",
    "            p_default[k] += prob\n",
    "            loss += lgd[k]\n",
    "    values += [loss]\n",
    "    probabilities += [prob]\n",
    "\n",
    "# Calculate results\n",
    "values = np.array(values)\n",
    "probabilities = np.array(probabilities)\n",
    "losses = np.sort(np.unique(values))\n",
    "pdf = np.zeros(len(losses))\n",
    "for i, v in enumerate(losses):\n",
    "    pdf[i] += sum(probabilities[values == v])\n",
    "expected_loss = np.dot(values, probabilities)\n",
    "cdf = np.cumsum(pdf)\n",
    "i_var = np.argmax(cdf >= 1 - alpha)\n",
    "exact_var = losses[i_var]\n",
    "exact_cvar = np.dot(pdf[(i_var + 1) :], losses[(i_var + 1) :]) / sum(pdf[(i_var + 1) :])\n",
    "\n",
    "# Print results\n",
    "print(\"P[L] <= VaR[L]]:                   %.4f\" % cdf[exact_var])\n",
    "print(\"Expected Loss E[L]:                %.4f\" % expected_loss)\n",
    "print(\"Value at Risk VaR[L]:              %.4f\" % exact_var)\n",
    "print(\"Conditional Value at Risk CVaR[L]: %.4f\" % exact_cvar)"
   ]
  },
  {
   "cell_type": "markdown",
   "metadata": {},
   "source": [
    "##### 4.1.1. Loss Distribution"
   ]
  },
  {
   "cell_type": "code",
   "execution_count": 11,
   "metadata": {
    "tags": [
     "hide-input"
    ]
   },
   "outputs": [
    {
     "data": {
      "image/png": "[encoded data removed]",
      "text/plain": [
       "<Figure size 432x288 with 1 Axes>"
      ]
     },
     "metadata": {
      "needs_background": "light"
     },
     "output_type": "display_data"
    }
   ],
   "source": [
    "# Plot loss PDF, expected loss, var, and cvar\n",
    "plt.bar(losses, pdf, color=c_on)\n",
    "plt.axvline(expected_loss, color=\"green\", linestyle=\"dashdot\", label=\"E[L]\")\n",
    "plt.axvline(exact_var, color=\"orange\", linestyle=\"dashdot\", label=\"VaR(L)\")\n",
    "plt.axvline(exact_cvar, color=\"red\", linestyle=\"dashdot\", label=\"CVaR(L)\")\n",
    "plt.legend(fontsize=label_size)\n",
    "plt.xlabel(\"Loss L ($)\", size=label_size)\n",
    "plt.ylabel(\"Probability (%)\", size=label_size)\n",
    "plt.title(\"Loss Distribution\", size=title_size)\n",
    "plt.xticks(size=label_size)\n",
    "plt.yticks(size=label_size)\n",
    "plt.show()"
   ]
  },
  {
   "cell_type": "markdown",
   "metadata": {},
   "source": [
    "##### 4.1.2. Z Distribution\n"
   ]
  },
  {
   "cell_type": "code",
   "execution_count": 12,
   "metadata": {
    "tags": [
     "hide-input"
    ]
   },
   "outputs": [
    {
     "data": {
      "image/png": "[encoded data removed]",
      "text/plain": [
       "<Figure size 432x288 with 1 Axes>"
      ]
     },
     "metadata": {
      "needs_background": "light"
     },
     "output_type": "display_data"
    }
   ],
   "source": [
    "# Plot results for Z\n",
    "plt.plot(z_values, p_z, \"o-\", linewidth=2, markersize=5, color=c_on)\n",
    "plt.xlabel(\"Z value\", size=label_size)\n",
    "plt.ylabel(\"probability (%)\", size=label_size)\n",
    "plt.title(\"Z Distribution\", size=title_size)\n",
    "plt.xticks(size=label_size)\n",
    "plt.yticks(size=label_size)\n",
    "plt.show()"
   ]
  },
  {
   "cell_type": "markdown",
   "metadata": {},
   "source": [
    "##### 4.1.3. Individual Default Probabilities"
   ]
  },
  {
   "cell_type": "code",
   "execution_count": 13,
   "metadata": {
    "tags": [
     "hide-input"
    ]
   },
   "outputs": [
    {
     "data": {
      "image/png": "[encoded data removed]",
      "text/plain": [
       "<Figure size 432x288 with 1 Axes>"
      ]
     },
     "metadata": {
      "needs_background": "light"
     },
     "output_type": "display_data"
    }
   ],
   "source": [
    "# Plot results for default probabilities\n",
    "plt.bar(range(K), p_default, color=c_on)\n",
    "plt.xlabel(\"Asset\", size=label_size)\n",
    "plt.ylabel(\"probability (%)\", size=label_size)\n",
    "plt.title(\"Individual Default Probabilities\", size=title_size)\n",
    "plt.xticks(range(K), size=label_size)\n",
    "plt.yticks(size=label_size)\n",
    "plt.show()"
   ]
  },
  {
   "cell_type": "markdown",
   "metadata": {},
   "source": [
    "### 4.2. Expected Loss\n",
    "\n",
    "To estimate the expected loss, we first apply a weighted sum operator to sum up individual losses to total loss:\n",
    "\n",
    "$$ \\mathcal{S}: |x_1, ..., x_K \\rangle_K |0\\rangle_{n_S} \\mapsto |x_1, ..., x_K \\rangle_K |\\lambda_1x_1 + ... + \\lambda_K x_K\\rangle_{n_S} $$\n",
    "\n",
    "The required number of qubits to represent the result is given by\n",
    "\n",
    "$$ n_s = \\lfloor \\log_2( \\lambda_1 + ... + \\lambda_K ) \\rfloor + 1 $$\n",
    "\n",
    "Once we have the total loss distribution in a quantum register, we can use the techniques described [[4]](https://www.nature.com/articles/s41534-019-0130-6) to map a total loss $ L \\in \\{0, ..., 2^{n_s}-1\\} $ to the amplitude of an objective qubit by an operator\n",
    "\n",
    "$$ | L \\rangle_{n_s}|0\\rangle \\mapsto\n",
    "| L \\rangle_{n_s} \\left( \\sqrt{1 - L/(2^{n_s}-1)}|0\\rangle + \\sqrt{L/(2^{n_s}-1)}|1\\rangle \\right) $$\n",
    "\n",
    "Which allows to run amplitude estimation to evaluate the expected loss.\n"
   ]
  },
  {
   "cell_type": "code",
   "execution_count": 14,
   "metadata": {
    "tags": [
     "hide-input"
    ]
   },
   "outputs": [],
   "source": [
    "agg = WeightedAdder(n_z + K, [0] * n_z + lgd)\n",
    "objective = LinearAmplitudeFunction(\n",
    "    # Add Z qubits with weight/loss 0\n",
    "    agg.num_sum_qubits,\n",
    "    # Define linear objective function\n",
    "    slope=[1],\n",
    "    offset=[0],\n",
    "    image=(0, sum(lgd)),\n",
    "    rescaling_factor=0.25,\n",
    "    breakpoints=[0],\n",
    "    # This is the Max value that can be reached by the qubit register (will not always be reached)\n",
    "    domain=(0, 2 ** agg.num_sum_qubits - 1),\n",
    ")"
   ]
  },
  {
   "cell_type": "markdown",
   "metadata": {},
   "source": [
    "Create the state preparation circuit:"
   ]
  },
  {
   "cell_type": "code",
   "execution_count": 15,
   "metadata": {
    "tags": [
     "hide-input"
    ]
   },
   "outputs": [
    {
     "data": {
      "text/html": [
       "<pre style=\"word-wrap: normal;white-space: pre;background: #fff0;line-height: 1.1;font-family: &quot;Courier New&quot;,Courier,monospace\">           ┌───────┐┌────────┐      ┌───────────┐\n",
       "  state_0: ┤0      ├┤0       ├──────┤0          ├\n",
       "           │       ││        │      │           │\n",
       "  state_1: ┤1      ├┤1       ├──────┤1          ├\n",
       "           │  P(X) ││        │      │           │\n",
       "  state_2: ┤2      ├┤2       ├──────┤2          ├\n",
       "           │       ││        │      │           │\n",
       "  state_3: ┤3      ├┤3       ├──────┤3          ├\n",
       "           └───────┘│  adder │┌────┐│  adder_dg │\n",
       "objective: ─────────┤        ├┤2   ├┤           ├\n",
       "                    │        ││    ││           │\n",
       "    sum_0: ─────────┤4       ├┤0 F ├┤4          ├\n",
       "                    │        ││    ││           │\n",
       "    sum_1: ─────────┤5       ├┤1   ├┤5          ├\n",
       "                    │        │└────┘│           │\n",
       "    carry: ─────────┤6       ├──────┤6          ├\n",
       "                    └────────┘      └───────────┘</pre>"
      ],
      "text/plain": [
       "           ┌───────┐┌────────┐      ┌───────────┐\n",
       "  state_0: ┤0      ├┤0       ├──────┤0          ├\n",
       "           │       ││        │      │           │\n",
       "  state_1: ┤1      ├┤1       ├──────┤1          ├\n",
       "           │  P(X) ││        │      │           │\n",
       "  state_2: ┤2      ├┤2       ├──────┤2          ├\n",
       "           │       ││        │      │           │\n",
       "  state_3: ┤3      ├┤3       ├──────┤3          ├\n",
       "           └───────┘│  adder │┌────┐│  adder_dg │\n",
       "objective: ─────────┤        ├┤2   ├┤           ├\n",
       "                    │        ││    ││           │\n",
       "    sum_0: ─────────┤4       ├┤0 F ├┤4          ├\n",
       "                    │        ││    ││           │\n",
       "    sum_1: ─────────┤5       ├┤1   ├┤5          ├\n",
       "                    │        │└────┘│           │\n",
       "    carry: ─────────┤6       ├──────┤6          ├\n",
       "                    └────────┘      └───────────┘"
      ]
     },
     "execution_count": 15,
     "metadata": {},
     "output_type": "execute_result"
    }
   ],
   "source": [
    "# Define the registers for convenience and readability\n",
    "qr_state = QuantumRegister(u.num_qubits, \"state\")\n",
    "qr_sum = QuantumRegister(agg.num_sum_qubits, \"sum\")\n",
    "qr_carry = QuantumRegister(agg.num_carry_qubits, \"carry\")\n",
    "qr_obj = QuantumRegister(1, \"objective\")\n",
    "# Define the circuit\n",
    "state_preparation = QuantumCircuit(qr_state, qr_obj, qr_sum, qr_carry, name=\"A\")\n",
    "# Load the random variable\n",
    "state_preparation.append(u.to_gate(), qr_state)\n",
    "# Aggregate\n",
    "state_preparation.append(agg.to_gate(), qr_state[:] + qr_sum[:] + qr_carry[:])\n",
    "# Linear objective function\n",
    "state_preparation.append(objective.to_gate(), qr_sum[:] + qr_obj[:])\n",
    "# Uncompute aggregation\n",
    "state_preparation.append(agg.to_gate().inverse(), qr_state[:] + qr_sum[:] + qr_carry[:])\n",
    "# Draw the circuit\n",
    "state_preparation.draw()"
   ]
  },
  {
   "cell_type": "markdown",
   "metadata": {},
   "source": [
    "Before we use QAE to estimate the expected loss, we validate the quantum circuit representing the objective function by just simulating it directly and analyzing the probability of the objective qubit being in the $|1\\rangle$ state, i.e., the value QAE will eventually approximate."
   ]
  },
  {
   "cell_type": "code",
   "execution_count": 16,
   "metadata": {
    "tags": [
     "hide-input"
    ]
   },
   "outputs": [
    {
     "name": "stdout",
     "output_type": "stream",
     "text": [
      "Exact Expected Loss:   0.6409\n",
      "Exact Operator Value:  0.3906\n",
      "Mapped Operator value: 0.6639\n"
     ]
    }
   ],
   "source": [
    "exe = execute(state_preparation, backend=Aer.get_backend(\"statevector_simulator\"))\n",
    "# Evaluate resulting statevector\n",
    "value = 0\n",
    "state = exe.result().get_statevector()\n",
    "if not isinstance(state, np.ndarray):\n",
    "    state = state.data\n",
    "for i, a in enumerate(state):\n",
    "    b = (\"{0:0%sb}\" % (len(qr_state) + 1)).format(i)[-(len(qr_state) + 1) :]\n",
    "    prob = np.abs(a) ** 2\n",
    "    if prob > 1e-6 and b[0] == \"1\":\n",
    "        value += prob\n",
    "\n",
    "# Print results\n",
    "print(\"Exact Expected Loss:   %.4f\" % expected_loss)\n",
    "print(\"Exact Operator Value:  %.4f\" % value)\n",
    "print(\"Mapped Operator value: %.4f\" % objective.post_processing(value))"
   ]
  },
  {
   "cell_type": "markdown",
   "metadata": {},
   "source": [
    "Next we run IQAE to estimate the expected loss with a quadratic speed-up over classical Monte Carlo simulation."
   ]
  },
  {
   "cell_type": "code",
   "execution_count": 17,
   "metadata": {
    "tags": [
     "hide-input"
    ]
   },
   "outputs": [
    {
     "name": "stdout",
     "output_type": "stream",
     "text": [
      "Exact value:    \t0.6409\n",
      "Estimated value:\t0.6263\n",
      "Confidence interval: \t[0.5577, 0.6950]\n"
     ]
    }
   ],
   "source": [
    "qi = QuantumInstance(Aer.get_backend(\"aer_simulator\"), shots=100)\n",
    "problem = EstimationProblem(state_preparation=state_preparation, objective_qubits=[len(qr_state)], post_processing=objective.post_processing)\n",
    "# Construct amplitude estimation, Set target precision and confidence level\n",
    "ae = IterativeAmplitudeEstimation(0.01, alpha=0.05, quantum_instance=qi)\n",
    "result = ae.estimate(problem)\n",
    "conf_int = np.array(result.confidence_interval_processed)\n",
    "\n",
    "# Print results\n",
    "print(\"Exact value:    \\t%.4f\" % expected_loss)\n",
    "print(\"Estimated value:\\t%.4f\" % result.estimation_processed)\n",
    "print(\"Confidence interval: \\t[%.4f, %.4f]\" % tuple(conf_int))"
   ]
  },
  {
   "cell_type": "markdown",
   "metadata": {},
   "source": [
    "<!-- ### 4.3. Cumulative Distribution Function\n",
    "\n",
    "Instead of the expected loss (which could also be estimated efficiently using classical techniques) we now estimate the cumulative distribution function (CDF) of the loss. Classically, this either involves evaluating all the possible combinations of defaulting assets, or many classical samples in a Monte Carlo simulation. Algorithms based on QAE have the potential to significantly speed up this analysis in the future.\n",
    "\n",
    "To estimate the CDF, i.e., the probability $\\mathbb{P}[L \\leq x]$, we again apply $\\mathcal{S}$ to compute the total loss, and then apply a comparator that for a given value $x$ acts as\n",
    "\n",
    "$$\\begin{split} \\mathcal{C}: |L\\rangle_n|0> \\mapsto\n",
    "\\begin{cases}\n",
    "|L\\rangle_n|1> & \\text{if}\\quad L \\leq x \\\\\n",
    "|L\\rangle_n|0> & \\text{if}\\quad L > x\n",
    "\\end{cases}\\end{split}$$\n",
    "\n",
    "The resulting quantum state can be written as\n",
    "\n",
    "$ \\sum_{L = 0}^{x} \\sqrt{p_{L}}|L\\rangle_{n_s}|1\\rangle +\n",
    "\\sum_{L = x+1}^{2^{n_s}-1} \\sqrt{p_{L}}|L\\rangle_{n_s}|0\\rangle $\n",
    "\n",
    "Where we directly assume the summed up loss values and corresponding probabilities instead of presenting the details of the uncertainty model.\n",
    "\n",
    "The CDF $(x)$ equals the probability of measuring $|1\\rangle$ in the objective qubit and QAE can be directly used to estimate it. -->"
   ]
  },
  {
   "cell_type": "code",
   "execution_count": 18,
   "metadata": {
    "tags": [
     "hide-input"
    ]
   },
   "outputs": [],
   "source": [
    "# # Set x value to estimate the CDF\n",
    "# x_eval = 2\n",
    "# comparator = IntegerComparator(agg.num_sum_qubits, x_eval + 1, geq=False)\n",
    "# comparator.draw()"
   ]
  },
  {
   "cell_type": "code",
   "execution_count": 19,
   "metadata": {
    "tags": [
     "hide-input"
    ]
   },
   "outputs": [],
   "source": [
    "def get_cdf_circuit(x_eval):\n",
    "    # Define the registers for convenience and readability\n",
    "    qr_state = QuantumRegister(u.num_qubits, \"state\")\n",
    "    qr_sum = QuantumRegister(agg.num_sum_qubits, \"sum\")\n",
    "    qr_carry = QuantumRegister(agg.num_carry_qubits, \"carry\")\n",
    "    qr_obj = QuantumRegister(1, \"objective\")\n",
    "    # Define the circuit\n",
    "    state_preparation = QuantumCircuit(qr_state, qr_obj, qr_sum, qr_carry, name=\"A\")\n",
    "    # Load the random variable\n",
    "    state_preparation.append(u, qr_state)\n",
    "    # Aggregate\n",
    "    state_preparation.append(agg, qr_state[:] + qr_sum[:] + qr_carry[:])\n",
    "    # Comparator objective function\n",
    "    comparator = IntegerComparator(agg.num_sum_qubits, x_eval + 1, geq=False)\n",
    "    state_preparation.append(comparator, qr_sum[:] + qr_obj[:] + qr_carry[:])\n",
    "    # Uncompute aggregation\n",
    "    state_preparation.append(agg.inverse(), qr_state[:] + qr_sum[:] + qr_carry[:])\n",
    "    return state_preparation\n",
    "\n",
    "# state_preparation = get_cdf_circuit(x_eval)"
   ]
  },
  {
   "cell_type": "markdown",
   "metadata": {},
   "source": [
    "<!-- Again, we first use quantum simulation to validate the quantum circuit. -->"
   ]
  },
  {
   "cell_type": "code",
   "execution_count": 20,
   "metadata": {
    "tags": [
     "hide-input"
    ]
   },
   "outputs": [],
   "source": [
    "# exe = execute(state_preparation, backend=Aer.get_backend(\"statevector_simulator\"))\n",
    "# state_preparation.draw()"
   ]
  },
  {
   "cell_type": "code",
   "execution_count": 21,
   "metadata": {
    "tags": [
     "hide-input"
    ]
   },
   "outputs": [],
   "source": [
    "# # Evaluate resulting statevector\n",
    "# var_prob = 0\n",
    "# state = exe.result().get_statevector()\n",
    "# if not isinstance(state, np.ndarray):\n",
    "#     state = state.data\n",
    "# for i, a in enumerate(state):\n",
    "#     b = (\"{0:0%sb}\" % (len(qr_state) + 1)).format(i)[-(len(qr_state) + 1) :]\n",
    "#     prob = np.abs(a) ** 2\n",
    "#     if prob > 1e-6 and b[0] == \"1\":\n",
    "#         var_prob += prob\n",
    "\n",
    "# # Print results\n",
    "# print(\"Operator CDF(%s)\" % x_eval + \" = %.4f\" % var_prob)\n",
    "# print(\"Exact    CDF(%s)\" % x_eval + \" = %.4f\" % cdf[x_eval])"
   ]
  },
  {
   "cell_type": "markdown",
   "metadata": {},
   "source": [
    "<!-- Next we run QAE to estimate the CDF for a given $x$. -->"
   ]
  },
  {
   "cell_type": "code",
   "execution_count": 22,
   "metadata": {
    "tags": [
     "hide-input"
    ]
   },
   "outputs": [],
   "source": [
    "# qi = QuantumInstance(Aer.get_backend(\"aer_simulator\"), shots=100)\n",
    "# problem = EstimationProblem(state_preparation=state_preparation, objective_qubits=[len(qr_state)])\n",
    "# # Construct amplitude estimation, set target precision and confidence level\n",
    "# ae_cdf = IterativeAmplitudeEstimation(0.01, alpha=0.05, quantum_instance=qi)\n",
    "# result_cdf = ae_cdf.estimate(problem)\n",
    "# conf_int = np.array(result_cdf.confidence_interval)\n",
    "\n",
    "# # Print results\n",
    "# print(\"Exact value:    \\t%.4f\" % cdf[x_eval])\n",
    "# print(\"Estimated value:\\t%.4f\" % result_cdf.estimation)\n",
    "# print(\"Confidence interval: \\t[%.4f, %.4f]\" % tuple(conf_int))"
   ]
  },
  {
   "cell_type": "markdown",
   "metadata": {},
   "source": [
    "### 4.3. Value at Risk (VaR)\n",
    "\n",
    "In the following we use a bisection search and IQAE to efficiently evaluate the Cumulative Distribution Function (CDF) to estimate the value at risk."
   ]
  },
  {
   "cell_type": "code",
   "execution_count": 23,
   "metadata": {
    "tags": [
     "hide-input"
    ]
   },
   "outputs": [
    {
     "name": "stdout",
     "output_type": "stream",
     "text": [
      "....................................................................\n",
      " 🕵️‍♂️ Start bisection search for target value: 0.950\n",
      "....................................................................\n",
      "low_level    low_value    level    value    high_level    high_value\n",
      "....................................................................\n",
      "-1           0.000         1       0.752     3            1.000\n",
      " 1           0.752         2       0.959     3            1.000\n",
      "....................................................................\n",
      " 🔚 Finished bisection search \n",
      "....................................................................\n",
      "\n",
      "\n",
      "\n",
      "Estimated Value at Risk:  2\n",
      "Exact Value at Risk:      2\n",
      "Estimated Probability:    0.959\n",
      "Exact Probability:        0.959\n"
     ]
    }
   ],
   "source": [
    "# Construct amplitude estimation\n",
    "def run_ae_for_cdf(x_eval, epsilon=0.01, alpha=0.05, simulator=\"aer_simulator\"):\n",
    "    state_preparation = get_cdf_circuit(x_eval)\n",
    "    qi = QuantumInstance(Aer.get_backend(simulator), shots=100)\n",
    "    problem = EstimationProblem(state_preparation=state_preparation, objective_qubits=[len(qr_state)])\n",
    "    ae_var = IterativeAmplitudeEstimation(epsilon, alpha=alpha, quantum_instance=qi)\n",
    "    result_var = ae_var.estimate(problem)\n",
    "    return result_var.estimation\n",
    "\n",
    "# Check whether low and high values are given and evaluated them otherwise\n",
    "def bisection_search(objective, target_value, low_level, high_level, low_value=None, high_value=None):\n",
    "    print(\"....................................................................\")\n",
    "    print(\" 🕵️‍♂️ Start bisection search for target value: %.3f\" % target_value)\n",
    "    print(\"....................................................................\")\n",
    "    num_eval = 0\n",
    "    if low_value is None:\n",
    "        low_value = objective(low_level)\n",
    "        num_eval += 1\n",
    "    if high_value is None:\n",
    "        high_value = objective(high_level)\n",
    "        num_eval += 1\n",
    "    # Check if low_value already satisfies the condition\n",
    "    if low_value > target_value:\n",
    "        return {\"level\": low_level, \"value\": low_value, \"num_eval\": num_eval, \"comment\": \"returned low value\"}\n",
    "    elif low_value == target_value:\n",
    "        return {\"level\": low_level, \"value\": low_value, \"num_eval\": num_eval, \"comment\": \"success\"}\n",
    "    # Check if high_value is above target\n",
    "    if high_value < target_value:\n",
    "        return {\"level\": high_level, \"value\": high_value, \"num_eval\": num_eval, \"comment\": \"returned low value\"}\n",
    "    elif high_value == target_value:\n",
    "        return {\"level\": high_level, \"value\": high_value, \"num_eval\": num_eval, \"comment\": \"success\"}\n",
    "    # Perform bisection search until\n",
    "    print(\"low_level    low_value    level    value    high_level    high_value\")\n",
    "    print(\"....................................................................\")\n",
    "    while high_level - low_level > 1:\n",
    "        level = int(np.round((high_level + low_level) / 2.0))\n",
    "        num_eval += 1\n",
    "        value = objective(level)\n",
    "        print(\n",
    "            \"%2d           %.3f        %2d       %.3f    %2d            %.3f\"\n",
    "            % (low_level, low_value, level, value, high_level, high_value)\n",
    "        )\n",
    "        if value >= target_value:\n",
    "            high_level = level\n",
    "            high_value = value\n",
    "        else:\n",
    "            low_level = level\n",
    "            low_value = value\n",
    "    print(\"....................................................................\")\n",
    "    print(\" 🔚 Finished bisection search \")\n",
    "    print(\"....................................................................\")\n",
    "    # Return high value after bisection search\n",
    "    return {\"level\": high_level, \"value\": high_value, \"num_eval\": num_eval, \"comment\": \"success\"}\n",
    "\n",
    "# Run bisection search to determine VaR\n",
    "objective = lambda x: run_ae_for_cdf(x)\n",
    "bisection_result = bisection_search(objective, 1 - alpha, min(losses) - 1, max(losses), low_value=0, high_value=1)\n",
    "var = bisection_result[\"level\"]\n",
    "\n",
    "# Print results\n",
    "print(\"\\n\\n\")\n",
    "print(\"Estimated Value at Risk: %2d\" % var)\n",
    "print(\"Exact Value at Risk:     %2d\" % exact_var)\n",
    "print(\"Estimated Probability:    %.3f\" % bisection_result[\"value\"])\n",
    "print(\"Exact Probability:        %.3f\" % cdf[exact_var])"
   ]
  },
  {
   "cell_type": "markdown",
   "metadata": {},
   "source": [
    "### 4.4 Conditional Value at Risk (CVaR)\n",
    "\n",
    "Last, we compute the CVaR, the expected value of the loss conditional to it being larger than or equal to the VaR. To do so, we evaluate a piecewise linear objective function $f(L)$, dependent on the total loss $L$, that is given by:\n",
    "\n",
    "$$\\begin{split}f(L) = \\begin{cases}\n",
    "0 & \\text{if}\\quad L \\leq VaR \\\\\n",
    "L & \\text{if}\\quad L > VaR.\n",
    "\\end{cases}\\end{split}$$\n",
    "\n",
    "To normalize, we have to divide the resulting expected value by the VaR-probability, i.e. $\\mathbb{P}[L \\leq VaR]$."
   ]
  },
  {
   "cell_type": "code",
   "execution_count": 24,
   "metadata": {
    "tags": [
     "hide-input"
    ]
   },
   "outputs": [
    {
     "data": {
      "text/html": [
       "<pre style=\"word-wrap: normal;white-space: pre;background: #fff0;line-height: 1.1;font-family: &quot;Courier New&quot;,Courier,monospace\">        ┌────┐\n",
       "q369_0: ┤0   ├\n",
       "        │    │\n",
       "q369_1: ┤1   ├\n",
       "        │    │\n",
       "  q370: ┤2 F ├\n",
       "        │    │\n",
       "  a2_0: ┤3   ├\n",
       "        │    │\n",
       "  a2_1: ┤4   ├\n",
       "        └────┘</pre>"
      ],
      "text/plain": [
       "        ┌────┐\n",
       "q369_0: ┤0   ├\n",
       "        │    │\n",
       "q369_1: ┤1   ├\n",
       "        │    │\n",
       "  q370: ┤2 F ├\n",
       "        │    │\n",
       "  a2_0: ┤3   ├\n",
       "        │    │\n",
       "  a2_1: ┤4   ├\n",
       "        └────┘"
      ]
     },
     "execution_count": 24,
     "metadata": {},
     "output_type": "execute_result"
    }
   ],
   "source": [
    "cvar_objective = LinearAmplitudeFunction(\n",
    "    agg.num_sum_qubits,\n",
    "    [0, 1],\n",
    "    # Subtract VaR and add it later to the estimate\n",
    "    [0, 0],\n",
    "    domain=(0, 2 ** agg.num_sum_qubits - 1),\n",
    "    image=(0, 3 - var),\n",
    "    rescaling_factor=0.25,\n",
    "    breakpoints=[0, var],\n",
    ")\n",
    "cvar_objective.draw()"
   ]
  },
  {
   "cell_type": "code",
   "execution_count": 25,
   "metadata": {
    "tags": [
     "hide-input"
    ]
   },
   "outputs": [
    {
     "data": {
      "text/plain": [
       "<qiskit.circuit.instructionset.InstructionSet at 0x10abc6f40>"
      ]
     },
     "execution_count": 25,
     "metadata": {},
     "output_type": "execute_result"
    }
   ],
   "source": [
    "# Define the registers for convenience and readability\n",
    "qr_state = QuantumRegister(u.num_qubits, \"state\")\n",
    "qr_sum = QuantumRegister(agg.num_sum_qubits, \"sum\")\n",
    "qr_carry = QuantumRegister(agg.num_carry_qubits, \"carry\")\n",
    "qr_obj = QuantumRegister(1, \"objective\")\n",
    "qr_work = QuantumRegister(cvar_objective.num_ancillas - len(qr_carry), \"work\")\n",
    "# Define the circuit\n",
    "state_preparation = QuantumCircuit(qr_state, qr_obj, qr_sum, qr_carry, qr_work, name=\"A\")\n",
    "# Load the random variable\n",
    "state_preparation.append(u, qr_state)\n",
    "# Aggregate\n",
    "state_preparation.append(agg, qr_state[:] + qr_sum[:] + qr_carry[:])\n",
    "# Linear objective function\n",
    "state_preparation.append(cvar_objective, qr_sum[:] + qr_obj[:] + qr_carry[:] + qr_work[:])\n",
    "# Uncompute aggregation\n",
    "state_preparation.append(agg.inverse(), qr_state[:] + qr_sum[:] + qr_carry[:])"
   ]
  },
  {
   "cell_type": "markdown",
   "metadata": {},
   "source": [
    "Again, we first use quantum simulation to validate the quantum circuit."
   ]
  },
  {
   "cell_type": "code",
   "execution_count": 26,
   "metadata": {
    "tags": [
     "hide-input"
    ]
   },
   "outputs": [
    {
     "name": "stdout",
     "output_type": "stream",
     "text": [
      "Estimated CVaR: 3.2834\n",
      "Exact CVaR:     3.0000\n"
     ]
    }
   ],
   "source": [
    "exe = execute(state_preparation, backend=Aer.get_backend(\"statevector_simulator\"))\n",
    "# Evaluate resulting statevector\n",
    "value = 0\n",
    "state = exe.result().get_statevector()\n",
    "if not isinstance(state, np.ndarray):\n",
    "    state = state.data\n",
    "for i, a in enumerate(state):\n",
    "    b = (\"{0:0%sb}\" % (len(qr_state) + 1)).format(i)[-(len(qr_state) + 1) :]\n",
    "    prob = np.abs(a) ** 2\n",
    "    if prob > 1e-6 and b[0] == \"1\":\n",
    "        value += prob\n",
    "\n",
    "# Normalize and add VaR to estimate\n",
    "value = cvar_objective.post_processing(value)\n",
    "d = 1.0 - bisection_result[\"value\"]\n",
    "v = value / d if d != 0 else 0\n",
    "normalized_value = v + var\n",
    "\n",
    "# Print results\n",
    "print(\"Estimated CVaR: %.4f\" % normalized_value)\n",
    "print(\"Exact CVaR:     %.4f\" % exact_cvar)"
   ]
  },
  {
   "cell_type": "markdown",
   "metadata": {},
   "source": [
    "Next we run IQAE to estimate the CVaR."
   ]
  },
  {
   "cell_type": "code",
   "execution_count": 27,
   "metadata": {
    "tags": [
     "hide-input"
    ]
   },
   "outputs": [
    {
     "name": "stdout",
     "output_type": "stream",
     "text": [
      "Exact CVaR:    \t3.0000\n",
      "Estimated CVaR:\t3.2491\n"
     ]
    }
   ],
   "source": [
    "qi = QuantumInstance(Aer.get_backend(\"aer_simulator\"), shots=100)\n",
    "problem = EstimationProblem(\n",
    "    state_preparation=state_preparation,\n",
    "    objective_qubits=[len(qr_state)],\n",
    "    post_processing=cvar_objective.post_processing,\n",
    ")\n",
    "# Construct amplitude estimation, set target precision and confidence level\n",
    "ae_cvar = IterativeAmplitudeEstimation(0.01, alpha=0.05, quantum_instance=qi)\n",
    "result_cvar = ae_cvar.estimate(problem)\n",
    "d = 1.0 - bisection_result[\"value\"]\n",
    "v = result_cvar.estimation_processed / d if d != 0 else 0\n",
    "\n",
    "# Print results\n",
    "print(\"Exact CVaR:    \\t%.4f\" % exact_cvar)\n",
    "print(\"Estimated CVaR:\\t%.4f\" % (v + var))"
   ]
  },
  {
   "cell_type": "markdown",
   "metadata": {},
   "source": [
    "## 5. Conclusions\n",
    "\n",
    "By now, most people have heard that quantum computing is a revolutionary technology that leverages the bizarre characteristics of quantum mechanics to solve certain problems faster than regular computers can. Those problems range from the worlds of mathematics to retail business, and physics to finance. But, as we have seen recently, quantum computers (QC) are exceedingly difficult to engineer, build and program. As a result, they are crippled by errors in the form of noise, faults and loss of quantum coherence.\n",
    "\n",
    "While classical computers (CC) are also affected by various sources of errors, these errors can be corrected with a modest amount of extra storage and logic. Quantum error­ correction schemes do exist but consume such a large number of qubits that relatively few qubits remain for actual computation. So when only a couple of qubits are required it could be feasible, but when the number required increases the computing is not viable. This reduces the size of the computing task to a tiny fraction of what could run on defect-­free hardware.\n",
    "\n",
    "So, all in all, the application of this quantum algorithm (or quantum computing in general) is not feasible due to the noise and the quantity of qubits required."
   ]
  },
  {
   "cell_type": "markdown",
   "metadata": {},
   "source": [
    "## 6. References\n",
    "\n",
    "- [1] Purpose of Credit Risk Analysis ([corporatefinanceinstitute.com](https://corporatefinanceinstitute.com/resources/knowledge/credit/purpose-of-credit-risk-analysis/))\n",
    "- [2] How Quantum Computing Could Change Financial Services ([mckinsey.com](https://www.mckinsey.com/industries/financial-services/our-insights/how-quantum-computing-could-change-financial-services))\n",
    "- [3] Credit Risk Analysis ([qiskit](https://qiskit.org/documentation/finance/tutorials/09_credit_risk_analysis.html))\n",
    "- [4] Quantum Risk Analysis. Stefan Woerner, Daniel J. Egger et al. (2019) ([nature](https://www.nature.com/articles/s41534-019-0130-6))\n",
    "- [5] Credit Risk Analysis using Quantum Computers. Egger et al. (2019) ([arxiv.org](https://arxiv.org/abs/1907.03044))\n",
    "- [6] Quantum Amplitude Amplification and Estimation. Gilles Brassard et al. (2000) ([arxiv.org](http://arxiv.org/abs/quant-ph/0005055))\n",
    "- [7] Three stages of the 3-qubit Grover search algorithm ([phys.org](https://scx2.b-cdn.net/gfx/news/2018/groversearch.jpg))\n",
    "- [8] Iterative quantum amplitude estimation ([nature](https://www.nature.com/articles/s41534-021-00379-1))"
   ]
  }
 ],
 "metadata": {
  "interpreter": {
   "hash": "aee8b7b246df8f9039afb4144a1f6fd8d2ca17a180786b69acc140d282b71a49"
  },
  "kernelspec": {
   "display_name": "Python 3.9.7 64-bit",
   "language": "python",
   "name": "python3"
  },
  "language_info": {
   "codemirror_mode": {
    "name": "ipython",
    "version": 3
   },
   "file_extension": ".py",
   "mimetype": "text/x-python",
   "name": "python",
   "nbconvert_exporter": "python",
   "pygments_lexer": "ipython3",
   "version": "3.9.7"
  },
  "orig_nbformat": 4
 },
 "nbformat": 4,
 "nbformat_minor": 2
}
