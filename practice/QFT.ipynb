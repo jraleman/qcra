{
 "cells": [
  {
   "cell_type": "markdown",
   "id": "d7393f6f-ae0d-47e6-a303-4aa55bd73deb",
   "metadata": {},
   "source": [
    "# Quantum Fourier Transform (QFT)\n",
    "\n",
    "This is the quantum implementation of the discrete Fourier Transform over the amplitudes of a wavefunction. It is part of many quantum algorithms, most notably Shor's factoring algorithm and quantum phase estimation (QPE)."
   ]
  },
  {
   "cell_type": "markdown",
   "id": "7df22689-a628-4c3b-a079-e5c62d4021bd",
   "metadata": {
    "tags": []
   },
   "source": [
    "## Intuition\n",
    "\n",
    "Transforms between two bases, the computation (Z) basis and the Fourier basis. The H-gate is the single-qubit QFT, and it transforms between the Z-basis states |0> and |1> to the X-basis states |+> and |->. In the same way, all multi-qubit states in the computational basis have corresponding states in the Fourier basis.\n",
    "\n",
    "### Counting the Fourier Basis\n",
    "\n",
    "In the computational basis, we store numbers in binary using the states |0> and |1>\n",
    "\n",
    "![z-basis-counting](https://qiskit.org/textbook/ch-algorithms/images/zbasis-counting.gif)\n",
    "\n",
    "Note the frequency with which the different qubits change;\n",
    "- The leftmost qubit flips with every increment in the number\n",
    "- The next with every 2 increments\n",
    "- The third with every 4 increments\n",
    "- ...and so on...\n",
    "\n",
    "In the Fourier basis, we store number usintg different rotations around the Z-axis:\n",
    "\n",
    "![fourier-basis-counting](https://qiskit.org/textbook/ch-algorithms/images/fourierbasis-counting.gif)\n",
    "\n",
    "The number we want to store dictates the angle at which each qubit is rotated around the Z-axis.\n",
    "\n",
    "Note that the frequency with which each qubit changes, the leftmost qubit (`qubit=0`) has the lowest frequency, and the rightmost the highest (in this case)"
   ]
  },
  {
   "cell_type": "markdown",
   "id": "e63a4757-bf1b-45a6-a6ad-157bf1d17fd9",
   "metadata": {},
   "source": [
    "## The Circuit that Implements the QFT\n",
    "\n",
    "This makes use of two (2) gates. The first one is a single-qubit Hadamard gate, `H`, and the second is a two-qubit controller rotation `CROT`.\n",
    "\n",
    "Given the two gates, a circuit that implements an n-qubit QFT is shown below\n",
    "\n",
    "![qft-circuit](https://qiskit.org/textbook/ch-algorithms/images/qft.png)\n",
    "\n",
    "This circuit operate as follows:\n",
    "\n",
    "0. We state with an n-qubit input state |x_1 x_2 ... x_n>\n",
    "1. After the first Hadamard gate on qubit 1, the state from the input state.\n",
    "2. After the `UROT_2` gate on qubit 1 controlled by qubit 2, the state is transformed.\n",
    "3. After the application of the last `UROT_n` gate on qubit1 controlled by qubit `n`, the state changes.\n",
    "4. After the application of a similar sequence of gates for qubits 2 ... n, we find that the final state is exactly the QFT of the input state as derived, with the caveat that the order of the qubits is reversed in the output state."
   ]
  },
  {
   "cell_type": "markdown",
   "id": "bf76151d-e7e2-459c-83c2-ca991f83f0f9",
   "metadata": {},
   "source": [
    "### Form of the QFT Circuit\n",
    "\n",
    "The example above demostrates a very useful form of the QFT for `N = 2^n`. Note that only the last qubit depends on the values of all the other input qubits and each further bit depends less and less on the input qubits. This becomes important in physical implementations of the QFT, where nearest-neighbor couplings are easier to achieve than distant couplings between the qubits.\n",
    "\n",
    "Additionally, as the QFT circuit becomes large, an increasing amount of time is spent doing increasingly slight rotations. it turns out that we can ignore rotations below a certain threshold and still get decent results. This is knows as the approximate QFT. This is also important in physical implementations, as reducing the number of operations can greatly reduce decoherence and potential gate errors."
   ]
  },
  {
   "cell_type": "markdown",
   "id": "952ff627-07ba-4174-9ce4-8c7108fd8a37",
   "metadata": {},
   "source": [
    "### Qiskit Implementation\n",
    "\n",
    "The implementation of the `CROT` gate used in the discussion above is a controlled phase rotation gate.\n",
    "\n",
    "#### Example on 3 Qubits"
   ]
  },
  {
   "cell_type": "code",
   "execution_count": 1,
   "id": "5adc2a58-2b7e-4470-a28d-f8cc57411ca5",
   "metadata": {},
   "outputs": [],
   "source": [
    "import numpy as np\n",
    "from numpy import pi\n",
    "# Aer is a high performance simulator for quantum circuits that includes noise models.\n",
    "from qiskit import QuantumCircuit, transpile, assemble, Aer, IBMQ\n",
    "from qiskit.providers.ibmq import least_busy\n",
    "from qiskit.tools.monitor import job_monitor\n",
    "from qiskit.visualization import plot_histogram, plot_bloch_multivector"
   ]
  },
  {
   "cell_type": "markdown",
   "id": "6cb92888-1f37-4de5-adf0-9d5c96ae62a2",
   "metadata": {},
   "source": [
    "It is useful to work out the relevant code for the 3-qubit case before generalizing to the n-qubit case. First, we must define our quantum circuit:"
   ]
  },
  {
   "cell_type": "code",
   "execution_count": 2,
   "id": "03e9e262-2e57-46ab-aa4c-52fd813699f3",
   "metadata": {},
   "outputs": [],
   "source": [
    "qc = QuantumCircuit(3)"
   ]
  },
  {
   "cell_type": "markdown",
   "id": "5e20eec4-bcc1-4dfc-a1c4-f7a0080f916c",
   "metadata": {},
   "source": [
    "Qiskit's least significant bit has the lowest index (0), this the circuit will be mirrored through horizontally in relation to the image of the circuit that implements the QFT. First, we apply a H-gate to qubit 2:"
   ]
  },
  {
   "cell_type": "code",
   "execution_count": 3,
   "id": "9714c23b-e07a-4525-bec6-00f67cee6c81",
   "metadata": {},
   "outputs": [
    {
     "data": {
      "image/png": "[encoded data removed]",
      "text/plain": [
       "<Figure size 146.797x204.68 with 1 Axes>"
      ]
     },
     "execution_count": 3,
     "metadata": {},
     "output_type": "execute_result"
    }
   ],
   "source": [
    "qc.h(2)\n",
    "qc.draw()"
   ]
  }
 ],
 "metadata": {
  "kernelspec": {
   "display_name": "Qiskit v0.35.0 (ipykernel)",
   "language": "python",
   "name": "python3"
  },
  "language_info": {
   "codemirror_mode": {
    "name": "ipython",
    "version": 3
   },
   "file_extension": ".py",
   "mimetype": "text/x-python",
   "name": "python",
   "nbconvert_exporter": "python",
   "pygments_lexer": "ipython3",
   "version": "3.8.13"
  },
  "widgets": {
   "application/vnd.jupyter.widget-state+json": {
    "state": {},
    "version_major": 2,
    "version_minor": 0
   }
  }
 },
 "nbformat": 4,
 "nbformat_minor": 5
}
